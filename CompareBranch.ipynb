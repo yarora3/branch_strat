{
 "cells": [
  {
   "cell_type": "code",
   "execution_count": 1,
   "metadata": {
    "scrolled": true
   },
   "outputs": [
    {
     "data": {
      "text/html": [
       "<script>\n",
       "code_show=true; \n",
       "function code_toggle() {\n",
       " if (code_show){\n",
       " $('div.input').hide();\n",
       " } else {\n",
       " $('div.input').show();\n",
       " }\n",
       " code_show = !code_show\n",
       "} \n",
       "$( document ).ready(code_toggle);\n",
       "</script>\n",
       "<style>\n",
       "input {\n",
       "    background-color: #3c83bb;\n",
       "    color: white;\n",
       "    border: none;\n",
       "    font-family: sans-serif;\n",
       "    padding: 8px;\n",
       "    border-radius: 10px;\n",
       "    \n",
       "}\n",
       "</style>\n",
       "<form action=\"javascript:code_toggle()\"><input type=\"submit\" value=\"See Raw Code\"></form>"
      ],
      "text/plain": [
       "<IPython.core.display.HTML object>"
      ]
     },
     "execution_count": 1,
     "metadata": {},
     "output_type": "execute_result"
    }
   ],
   "source": [
    "from IPython.display import HTML\n",
    "\n",
    "HTML('''<script>\n",
    "code_show=true; \n",
    "function code_toggle() {\n",
    " if (code_show){\n",
    " $('div.input').hide();\n",
    " } else {\n",
    " $('div.input').show();\n",
    " }\n",
    " code_show = !code_show\n",
    "} \n",
    "$( document ).ready(code_toggle);\n",
    "</script>\n",
    "<style>\n",
    "input {\n",
    "    background-color: #3c83bb;\n",
    "    color: white;\n",
    "    border: none;\n",
    "    font-family: sans-serif;\n",
    "    padding: 8px;\n",
    "    border-radius: 10px;\n",
    "    \n",
    "}\n",
    "</style>\n",
    "<form action=\"javascript:code_toggle()\"><input type=\"submit\" value=\"See Raw Code\"></form>''')\n"
   ]
  },
  {
   "cell_type": "code",
   "execution_count": 2,
   "metadata": {
    "scrolled": true
   },
   "outputs": [],
   "source": [
    "import pandas as pd\n",
    "import numpy as np\n",
    "import ipywidgets as widgets\n",
    "from ipywidgets import interact, interact_manual\n",
    "from IPython.display import display, clear_output\n",
    "from jupyterthemes import jtplot\n",
    "\n",
    "jtplot.style(theme='chesterish', grid=False)\n"
   ]
  },
  {
   "cell_type": "code",
   "execution_count": 3,
   "metadata": {
    "hid_input": true,
    "scrolled": true
   },
   "outputs": [],
   "source": [
    "df_prod_factors = pd.read_csv(\"../Data/Productivity_Factors.csv\", index_col=0)\n",
    "df_prod_grades_alpha = pd.read_csv(\"../Data/Productivity_Grades_Alpha.csv\", index_col=0)\n",
    "df_prod_grades_num = pd.read_csv(\"../Data/Productivity_Grades_Num.csv\", index_col=0)\n",
    "df_prof_factors = pd.read_csv(\"../Data/Profitability_Factors.csv\", index_col=0)\n",
    "df_prof_grades_alpha = pd.read_csv(\"../Data/Profitability_Grades_Alpha.csv\", index_col=0, dtype={'High GMR': object, 'High Sales and GM Weight': object, 'Equal Weights': object})\n",
    "df_prof_grades_num = pd.read_csv(\"../Data/Profitability_Grades_Num.csv\", index_col=0)\n"
   ]
  },
  {
   "cell_type": "code",
   "execution_count": 4,
   "metadata": {
    "scrolled": true
   },
   "outputs": [],
   "source": [
    "df_display_prod = df_prod_grades_num[['Sales District Name', 'Sales Office', 'Date (YYYYMM)', 'High Sales Weight', 'Equal Sales and GM Weight', 'Equal Weights']].copy()\n",
    "df_display_prod[['High Sales Weight Alpha', 'Equal Sales and GM Weight Alpha', 'Equal Weights Alpha']] = df_prod_grades_alpha[['High Sales Weight', 'Equal Sales and GM Weight', 'Equal Weights']].copy()\n",
    "\n",
    "df_display_prof = df_prof_grades_num[['Sales District Name', 'Sales Office', 'Date (YYYYMM)', 'High GMR', 'High Sales and GM Weight', 'Equal Weights']].copy()\n",
    "df_display_prof[['High GMR Alpha', 'High Sales and GM Weight Alpha', 'Equal Weights Alpha']] = (df_prof_grades_alpha[['High GMR', 'High Sales and GM Weight', 'Equal Weights']].copy())\n",
    "\n",
    "df_display_prof.replace(\"nan\", np.nan, inplace=True)\n",
    "\n",
    "dates = ['201701', '201702', '201703', '201704', '201705', '201706', '201707', \n",
    "         '201708', '201709', '201710', '201711', '201712', '201801', '201802', \n",
    "         '201803', '201804', '201805', '201806', '201807', '201808', '201809', \n",
    "         '201810', '201811', '201812', '201901', '201902', '201903']\n",
    "\n",
    "branches = df_display_prod['Sales Office'].unique()\n",
    "district = df_display_prod['Sales District Name'].unique()\n",
    "\n",
    "district_branch = dict(zip(df_display_prod['Sales Office'], df_display_prod['Sales District Name']))"
   ]
  },
  {
   "cell_type": "code",
   "execution_count": 5,
   "metadata": {
    "scrolled": true
   },
   "outputs": [],
   "source": [
    "Productivity = widgets.Dropdown(\n",
    "    options=['Equal Weights', 'High Sales Weight', 'Equal Sales and GM Weight'],\n",
    "    value='Equal Weights',\n",
    "    description='Productivity',\n",
    ")\n",
    "\n",
    "Profitability = widgets.Dropdown(\n",
    "    options=['Equal Weights', 'High GMR', 'High Sales and GM Weight'],\n",
    "    value='Equal Weights',\n",
    "    description='Profitability',\n",
    ")\n",
    "\n",
    "timeline = widgets.Dropdown(\n",
    "    options=dates,\n",
    "    value='201701',\n",
    "    description='Timeline',\n",
    ")\n",
    "\n",
    "Value_Options = widgets.Dropdown(\n",
    "    options=['Productivty & Profitability','Productivity', 'Profitability'],\n",
    "    value='Productivty & Profitability',\n",
    "    description='Values',\n",
    ")\n",
    "\n",
    "Branch = widgets.Dropdown(\n",
    "       options=['ALNY','ALPA','HAPA','HVNY','NCDE','PHPA','TENJ','WIPA'],\n",
    "       value='ALNY',\n",
    "       description='Branch',\n",
    ")\n",
    "\n",
    "District = widgets.Dropdown(\n",
    "   options=district,\n",
    "   value='New York',\n",
    "   description='District',\n",
    ")\n",
    "\n",
    "Within_District = widgets.Dropdown(\n",
    "    options=['True', 'False'],\n",
    "    value='True',\n",
    "    description='Within District',\n",
    ")\n",
    "\n",
    "Prod_text = widgets.HTML(\n",
    "    value=\"<b><h4><u>Productivity Scores</h4></u></b>\",\n",
    ")\n",
    "Prof_text = widgets.HTML(\n",
    "    value=\"<b><h4><u>Profitability Scores</h4></u></b>\",\n",
    ")\n",
    "\n",
    "Submit = widgets.Button(\n",
    "    description='Submit',\n",
    "    button_style='success',\n",
    "    tooltip='Submit',\n",
    "    icon='check'\n",
    ")\n",
    "\n",
    "def update(*args):\n",
    "    filtered_list=[]\n",
    "    for k,v in district_branch.items():\n",
    "        if v==District.value:\n",
    "            filtered_list.append(k)\n",
    "    Branch.options=filtered_list\n",
    "\n",
    "def on_button_clicked(Submit):\n",
    "    with out:\n",
    "        clear_output()\n",
    "        \n",
    "        prod_columns = ['Sales District Name', 'Sales Office', 'Date (YYYYMM)',\n",
    "                        'GM per Emp', 'Sales Order per Emp', 'Sales Order Items per Emp', \n",
    "                        'Sales Order Delivery per Emp','Non-Sales Order Delivery per Emp', \n",
    "                        'Delivery Lines per Emp', 'Deliver Docs per Emp']\n",
    "        prof_columns = ['Sales District Name', 'Sales Office', 'Date (YYYYMM)',\n",
    "                        'Number of Delivery Lines (SO)','Sales $ per branch',\n",
    "                        'GM $ per branch', 'RSO by plant','GMR','Sales Order - RSO']\n",
    "        \n",
    "        temp_df_prod_factors = df_prod_factors.copy()\n",
    "        temp_df_prod_factors[Productivity.value + ' vs ' + Profitability.value] = df_prod_grades_alpha[Productivity.value] + df_prof_grades_alpha[Profitability.value]\n",
    "        \n",
    "        temp_df_prof_factors = df_prof_factors.copy()\n",
    "        temp_df_prof_factors[Productivity.value + ' vs ' + Profitability.value] = df_prod_grades_alpha[Productivity.value] + df_prof_grades_alpha[Profitability.value]\n",
    "        \n",
    "        productivity_row = df_prod_grades_alpha[(df_prod_grades_alpha['Sales Office'] == Branch.value) & (df_prod_grades_alpha['Date (YYYYMM)'] == int(timeline.value))]\n",
    "        productivity_score = productivity_row.iloc[0].loc[Productivity.value]\n",
    "        district_value_prod =  productivity_row.iloc[0].loc['Sales District']\n",
    "        profitability_row = df_prof_grades_alpha[(df_prof_grades_alpha['Sales Office'] == Branch.value) & (df_prof_grades_alpha['Date (YYYYMM)'] == int(timeline.value))]\n",
    "        profitability_score = profitability_row.iloc[0].loc[Profitability.value]\n",
    "        district_value_prof =  profitability_row.iloc[0].loc['Sales District']\n",
    "        \n",
    "        if Value_Options.value == 'Productivity':\n",
    "            Productivity_row = temp_df_prod_factors[(temp_df_prod_factors[Productivity.value + ' vs ' + Profitability.value]==productivity_score+profitability_score) & (temp_df_prod_factors['Date (YYYYMM)'] == int(timeline.value))]\n",
    "            if Within_District.value == 'True':\n",
    "                District_Productivity_row = Productivity_row[Productivity_row['Sales District']==district_value_prod]\n",
    "                display(Prod_text, District_Productivity_row[prod_columns])\n",
    "            else:\n",
    "                display(Prod_text, Productivity_row[prod_columns])\n",
    "        elif Value_Options.value == 'Profitability':\n",
    "            Profitability_row = temp_df_prof_factors[(temp_df_prof_factors[Productivity.value + ' vs ' + Profitability.value]==productivity_score+profitability_score) & (temp_df_prod_factors['Date (YYYYMM)'] == int(timeline.value))]\n",
    "            if District.value == 'True':\n",
    "                District_Profitability_row = Profitability_row[Profitability_row['Sales District']==district_value_prof]\n",
    "                display(Prof_text, District_Profitability_row[prof_columns])\n",
    "            else:\n",
    "                display(Prof_text, Profitability_row[prof_columns])\n",
    "        else:\n",
    "            if Within_District.value == 'True':\n",
    "                Productivity_row = temp_df_prod_factors[(temp_df_prod_factors[Productivity.value + ' vs ' + Profitability.value]==productivity_score+profitability_score) & (temp_df_prod_factors['Date (YYYYMM)'] == int(timeline.value))]\n",
    "                District_Productivity_row = Productivity_row[Productivity_row['Sales District']==district_value_prod]\n",
    "                Profitability_row = temp_df_prof_factors[(temp_df_prof_factors[Productivity.value + ' vs ' + Profitability.value]==productivity_score+profitability_score) & (temp_df_prod_factors['Date (YYYYMM)'] == int(timeline.value))]\n",
    "                District_Profitability_row = Profitability_row[Profitability_row['Sales District']==district_value_prof]\n",
    "                display(Prod_text, District_Productivity_row[prod_columns],Prof_text,  District_Profitability_row[prof_columns])\n",
    "                \n",
    "            else:\n",
    "                Productivity_row = temp_df_prod_factors[(temp_df_prod_factors[Productivity.value + ' vs ' + Profitability.value]==productivity_score+profitability_score) & (temp_df_prod_factors['Date (YYYYMM)'] == int(timeline.value))]\n",
    "                Profitability_row = temp_df_prof_factors[(temp_df_prof_factors[Productivity.value + ' vs ' + Profitability.value]==productivity_score+profitability_score) & (temp_df_prod_factors['Date (YYYYMM)'] == int(timeline.value))]\n",
    "                display(Prod_text, Productivity_row[prod_columns],Prof_text,  Profitability_row[prof_columns])\n",
    "\n",
    "Submit.on_click(on_button_clicked)\n",
    "District.observe(update)\n",
    "\n",
    "hbox1 = widgets.HBox([Productivity, Profitability, Value_Options])\n",
    "hbox2 = widgets.HBox([timeline, District, Within_District])\n",
    "\n",
    "box_layout = widgets.Layout(display='flex',\n",
    "                flex_flow='column',\n",
    "                align_items='center',\n",
    "                width='100%')\n",
    "\n",
    "vbox = widgets.VBox([hbox1, hbox2, Branch, Submit], layout=box_layout)\n"
   ]
  },
  {
   "cell_type": "code",
   "execution_count": 6,
   "metadata": {
    "scrolled": false
   },
   "outputs": [
    {
     "data": {
      "application/vnd.jupyter.widget-view+json": {
       "model_id": "7f38ff69d1754fd3bbdd1d4e3af0b754",
       "version_major": 2,
       "version_minor": 0
      },
      "text/plain": [
       "Output()"
      ]
     },
     "metadata": {},
     "output_type": "display_data"
    },
    {
     "data": {
      "application/vnd.jupyter.widget-view+json": {
       "model_id": "af75aa7b3e23442095633173b357ff66",
       "version_major": 2,
       "version_minor": 0
      },
      "text/plain": [
       "VBox(children=(HBox(children=(Dropdown(description='Productivity', options=('Equal Weights', 'High Sales Weigh…"
      ]
     },
     "metadata": {},
     "output_type": "display_data"
    }
   ],
   "source": [
    "out = widgets.Output()\n",
    "display(out)\n",
    "\n",
    "\n",
    "display(vbox)"
   ]
  },
  {
   "cell_type": "markdown",
   "metadata": {},
   "source": [
    "<center>\n",
    "    <img src=../Legend/Productivity_and_Profitability_Graphs.png  width=\"500000\" height=\"250000\" />\n",
    "</center"
   ]
  }
 ],
 "metadata": {
  "kernelspec": {
   "display_name": "Python 3",
   "language": "python",
   "name": "python3"
  },
  "language_info": {
   "codemirror_mode": {
    "name": "ipython",
    "version": 3
   },
   "file_extension": ".py",
   "mimetype": "text/x-python",
   "name": "python",
   "nbconvert_exporter": "python",
   "pygments_lexer": "ipython3",
   "version": "3.7.3"
  }
 },
 "nbformat": 4,
 "nbformat_minor": 2
}
